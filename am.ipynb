{
 "cells": [
  {
   "cell_type": "code",
   "execution_count": null,
   "id": "f316f9e0-2f0d-4368-a578-953ed1d03c7f",
   "metadata": {},
   "outputs": [],
   "source": []
  }
 ],
 "metadata": {
  "kernelspec": {
   "display_name": "",
   "name": ""
  },
  "language_info": {
   "name": ""
  }
 },
 "nbformat": 4,
 "nbformat_minor": 5
}
